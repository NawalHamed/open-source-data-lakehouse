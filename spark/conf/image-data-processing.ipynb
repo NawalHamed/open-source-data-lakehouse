{
 "cells": [
  {
   "cell_type": "code",
   "execution_count": null,
   "id": "1c6e21a5",
   "metadata": {},
   "outputs": [],
   "source": [
    "from pyspark.sql import SparkSession\n",
    "from pyspark.sql.types import StructType, StructField, StringType, IntegerType"
   ]
  },
  {
   "cell_type": "code",
   "execution_count": null,
   "id": "87c7fb0f-fe0d-49d9-bccf-22586d49a605",
   "metadata": {},
   "outputs": [],
   "source": [
    "spark = SparkSession.builder.appName(\"Jupyter\").getOrCreate()\n",
    "\n",
    "spark"
   ]
  },
  {
   "cell_type": "code",
   "execution_count": null,
   "id": "177e1b97-abbe-46f7-904f-a178f7750a2a",
   "metadata": {},
   "outputs": [],
   "source": [
    "schema = StructType([\n",
    "    StructField(\"year\", IntegerType(), True),\n",
    "    StructField(\"age\", StringType(), True),\n",
    "    StructField(\"school\", IntegerType(), True),\n",
    "    StructField(\"group\", IntegerType(), True),\n",
    "    StructField(\"topic\", StringType(), True),\n",
    "    StructField(\"count\", StringType(), True)\n",
    "])"
   ]
  },
  {
   "cell_type": "code",
   "execution_count": null,
   "id": "040ad62e-ace3-4d9f-8e83-965c3ae35a60",
   "metadata": {},
   "outputs": [],
   "source": [
    "from pyspark.sql import SparkSession\n",
    "\n",
    "# Initialize Spark with MinIO configuration\n",
    "spark = SparkSession.builder \\\n",
    "    .appName(\"MinIO Image Load\") \\\n",
    "    .config(\"spark.hadoop.fs.s3a.endpoint\", \"http://localhost:9000\") \\\n",
    "    .config(\"spark.hadoop.fs.s3a.access.key\", \"minioadmin\") \\\n",
    "    .config(\"spark.hadoop.fs.s3a.secret.key\", \"minioadmin\") \\\n",
    "    .config(\"spark.hadoop.fs.s3a.path.style.access\", \"true\") \\\n",
    "    .config(\"spark.hadoop.fs.s3a.impl\", \"org.apache.hadoop.fs.s3a.S3AFileSystem\") \\\n",
    "    .config(\"spark.hadoop.fs.s3a.connection.ssl.enabled\", \"false\") \\\n",
    "    .getOrCreate()\n",
    "spark\n",
    "\n",
    "# Load image from MinIO\n",
    "image_df = spark.read.format(\"image\").load(\"s3a://unstructured-data/airport_table_view_firstScots.png\")\n",
    "\n",
    "# Show the results\n",
    "image_df.printSchema()\n",
    "image_df.show(truncate=False)\n"
   ]
  },
  {
   "cell_type": "code",
   "execution_count": null,
   "id": "22d0e653-4735-48d9-ba66-4ab5e4f9a7a0",
   "metadata": {},
   "outputs": [],
   "source": [
    "image_df = spark.read.format(\"image\").load(\"file:///home/iceberg/warehouse/unstructured data/data.png\")\n",
    "image_df.printSchema()\n",
    "\n",
    "# Show only metadata fields, exclude the large binary 'data' column\n",
    "image_df.select(\n",
    "    \"image.origin\",\n",
    "    \"image.height\",\n",
    "    \"image.width\",\n",
    "    \"image.nChannels\",\n",
    "    \"image.mode\"\n",
    ").show(truncate=False)\n"
   ]
  },
  {
   "cell_type": "code",
   "execution_count": null,
   "id": "01cff347-50a7-4679-acf3-98ade52fc6b6",
   "metadata": {},
   "outputs": [],
   "source": [
    "image_df.writeTo(\"db.bronze_layer.unstructured_data\").createOrReplace()\n"
   ]
  },
  {
   "cell_type": "code",
   "execution_count": null,
   "id": "2df76372-e854-4d39-bae8-973123c05641",
   "metadata": {},
   "outputs": [],
   "source": [
    "spark.stop()"
   ]
  },
  {
   "cell_type": "code",
   "execution_count": null,
   "id": "c3c19428-0d6e-437f-bf11-9bb237ac9ee6",
   "metadata": {},
   "outputs": [],
   "source": [
    "spark._jsc.sc().isStopped()"
   ]
  },
  {
   "cell_type": "code",
   "execution_count": null,
   "id": "32c260fc-ead4-4d51-bd22-e98c51f790f8",
   "metadata": {},
   "outputs": [],
   "source": []
  }
 ],
 "metadata": {
  "kernelspec": {
   "display_name": "Python 3 (ipykernel)",
   "language": "python",
   "name": "python3"
  },
  "language_info": {
   "codemirror_mode": {
    "name": "ipython",
    "version": 3
   },
   "file_extension": ".py",
   "mimetype": "text/x-python",
   "name": "python",
   "nbconvert_exporter": "python",
   "pygments_lexer": "ipython3",
   "version": "3.8.13"
  }
 },
 "nbformat": 4,
 "nbformat_minor": 5
}
