{
 "cells": [
  {
   "cell_type": "code",
   "execution_count": 1,
   "id": "1c6e21a5",
   "metadata": {},
   "outputs": [],
   "source": [
    "from pyspark.sql import SparkSession\n",
    "from pyspark.sql.types import StructType, StructField, StringType, IntegerType"
   ]
  },
  {
   "cell_type": "code",
   "execution_count": 3,
   "id": "87c7fb0f-fe0d-49d9-bccf-22586d49a605",
   "metadata": {},
   "outputs": [
    {
     "data": {
      "text/html": [
       "\n",
       "            <div>\n",
       "                <p><b>SparkSession - in-memory</b></p>\n",
       "                \n",
       "        <div>\n",
       "            <p><b>SparkContext</b></p>\n",
       "\n",
       "            <p><a href=\"http://0d2b0f3e832f:4040\">Spark UI</a></p>\n",
       "\n",
       "            <dl>\n",
       "              <dt>Version</dt>\n",
       "                <dd><code>v3.5.5</code></dd>\n",
       "              <dt>Master</dt>\n",
       "                <dd><code>spark://spark-iceberg:7077</code></dd>\n",
       "              <dt>AppName</dt>\n",
       "                <dd><code>PySparkShell</code></dd>\n",
       "            </dl>\n",
       "        </div>\n",
       "        \n",
       "            </div>\n",
       "        "
      ],
      "text/plain": [
       "<pyspark.sql.session.SparkSession at 0x7fd04c56fb90>"
      ]
     },
     "execution_count": 3,
     "metadata": {},
     "output_type": "execute_result"
    }
   ],
   "source": [
    "spark = SparkSession.builder.appName(\"Jupyter\").getOrCreate()\n",
    "\n",
    "spark"
   ]
  },
  {
   "cell_type": "code",
   "execution_count": 4,
   "id": "177e1b97-abbe-46f7-904f-a178f7750a2a",
   "metadata": {},
   "outputs": [],
   "source": [
    "schema = StructType([\n",
    "    StructField(\"year\", IntegerType(), True),\n",
    "    StructField(\"age\", StringType(), True),\n",
    "    StructField(\"school\", IntegerType(), True),\n",
    "    StructField(\"group\", IntegerType(), True),\n",
    "    StructField(\"topic\", StringType(), True),\n",
    "    StructField(\"count\", StringType(), True)\n",
    "])"
   ]
  },
  {
   "cell_type": "code",
   "execution_count": 5,
   "id": "040ad62e-ace3-4d9f-8e83-965c3ae35a60",
   "metadata": {},
   "outputs": [
    {
     "name": "stdout",
     "output_type": "stream",
     "text": [
      "/home/iceberg/notebooks\n",
      "True\n"
     ]
    }
   ],
   "source": [
    "import os\n",
    "print(os.getcwd())\n",
    "\n",
    "print(os.path.exists(\"/home/iceberg/warehouse/unstructured data/data.png\"))\n"
   ]
  },
  {
   "cell_type": "code",
   "execution_count": 11,
   "id": "22d0e653-4735-48d9-ba66-4ab5e4f9a7a0",
   "metadata": {},
   "outputs": [
    {
     "name": "stdout",
     "output_type": "stream",
     "text": [
      "root\n",
      " |-- image: struct (nullable = true)\n",
      " |    |-- origin: string (nullable = true)\n",
      " |    |-- height: integer (nullable = true)\n",
      " |    |-- width: integer (nullable = true)\n",
      " |    |-- nChannels: integer (nullable = true)\n",
      " |    |-- mode: integer (nullable = true)\n",
      " |    |-- data: binary (nullable = true)\n",
      "\n",
      "+-----------------------------------------------------------+------+-----+---------+----+\n",
      "|origin                                                     |height|width|nChannels|mode|\n",
      "+-----------------------------------------------------------+------+-----+---------+----+\n",
      "|file:///home/iceberg/warehouse/unstructured%20data/data.png|1024  |1024 |3        |16  |\n",
      "+-----------------------------------------------------------+------+-----+---------+----+\n",
      "\n"
     ]
    }
   ],
   "source": [
    "image_df = spark.read.format(\"image\").load(\"file:///home/iceberg/warehouse/unstructured data/data.png\")\n",
    "image_df.printSchema()\n",
    "\n",
    "# Show only metadata fields, exclude the large binary 'data' column\n",
    "image_df.select(\n",
    "    \"image.origin\",\n",
    "    \"image.height\",\n",
    "    \"image.width\",\n",
    "    \"image.nChannels\",\n",
    "    \"image.mode\"\n",
    ").show(truncate=False)\n"
   ]
  },
  {
   "cell_type": "code",
   "execution_count": 13,
   "id": "01cff347-50a7-4679-acf3-98ade52fc6b6",
   "metadata": {},
   "outputs": [
    {
     "name": "stderr",
     "output_type": "stream",
     "text": [
      "                                                                                \r"
     ]
    }
   ],
   "source": [
    "image_df.writeTo(\"db.bronze_layer.unstructured_data\").createOrReplace()\n"
   ]
  },
  {
   "cell_type": "code",
   "execution_count": 18,
   "id": "2df76372-e854-4d39-bae8-973123c05641",
   "metadata": {},
   "outputs": [],
   "source": [
    "spark.stop()"
   ]
  },
  {
   "cell_type": "code",
   "execution_count": 19,
   "id": "c3c19428-0d6e-437f-bf11-9bb237ac9ee6",
   "metadata": {},
   "outputs": [
    {
     "data": {
      "text/plain": [
       "True"
      ]
     },
     "execution_count": 19,
     "metadata": {},
     "output_type": "execute_result"
    }
   ],
   "source": [
    "spark._jsc.sc().isStopped()"
   ]
  },
  {
   "cell_type": "code",
   "execution_count": null,
   "id": "32c260fc-ead4-4d51-bd22-e98c51f790f8",
   "metadata": {},
   "outputs": [],
   "source": []
  }
 ],
 "metadata": {
  "kernelspec": {
   "display_name": "Python 3 (ipykernel)",
   "language": "python",
   "name": "python3"
  },
  "language_info": {
   "codemirror_mode": {
    "name": "ipython",
    "version": 3
   },
   "file_extension": ".py",
   "mimetype": "text/x-python",
   "name": "python",
   "nbconvert_exporter": "python",
   "pygments_lexer": "ipython3",
   "version": "3.11.11"
  }
 },
 "nbformat": 4,
 "nbformat_minor": 5
}
