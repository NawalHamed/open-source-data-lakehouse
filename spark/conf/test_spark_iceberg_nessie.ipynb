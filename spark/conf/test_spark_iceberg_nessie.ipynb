{
 "cells": [
  {
   "cell_type": "code",
   "execution_count": 2,
   "metadata": {},
   "outputs": [
    {
     "name": "stderr",
     "output_type": "stream",
     "text": [
      "Setting default log level to \"WARN\".\n",
      "To adjust logging level use sc.setLogLevel(newLevel). For SparkR, use setLogLevel(newLevel).\n"
     ]
    },
    {
     "name": "stdout",
     "output_type": "stream",
     "text": [
      "25/06/16 20:07:49 WARN NativeCodeLoader: Unable to load native-hadoop library for your platform... using builtin-java classes where applicable\n"
     ]
    }
   ],
   "source": [
    "from pyspark.sql import SparkSession\n",
    "\n",
    "spark = SparkSession.builder \\\n",
    "    .appName(\"IcebergTest\") \\\n",
    "    .config(\"spark.sql.catalog.nessie\", \"org.apache.iceberg.spark.SparkCatalog\") \\\n",
    "    .config(\"spark.sql.catalog.nessie.catalog-impl\", \"org.apache.iceberg.nessie.NessieCatalog\") \\\n",
    "    .config(\"spark.sql.catalog.nessie.uri\", \"http://nessie:19120/api/v1\") \\\n",
    "    .config(\"spark.sql.catalog.nessie.ref\", \"main\") \\\n",
    "    .config(\"spark.sql.catalog.nessie.warehouse\", \"s3a://warehouse\") \\\n",
    "    .config(\"spark.sql.catalog.nessie.s3.endpoint\", \"http://minio:9000\") \\\n",
    "    .config(\"spark.hadoop.fs.s3a.impl\", \"org.apache.hadoop.fs.s3a.S3AFileSystem\") \\\n",
    "    .config(\"spark.hadoop.fs.s3a.access.key\", \"minioadmin\") \\\n",
    "    .config(\"spark.hadoop.fs.s3a.secret.key\", \"minioadmin\") \\\n",
    "    .config(\"spark.hadoop.fs.s3a.endpoint\", \"http://minio:9000\") \\\n",
    "    .config(\"spark.hadoop.fs.s3a.path.style.access\", \"true\") \\\n",
    "    .getOrCreate()\n"
   ]
  },
  {
   "cell_type": "code",
   "execution_count": 3,
   "metadata": {},
   "outputs": [
    {
     "name": "stdout",
     "output_type": "stream",
     "text": [
      "25/06/16 20:07:52 WARN MetricsConfig: Cannot locate configuration: tried hadoop-metrics2-s3a-file-system.properties,hadoop-metrics2.properties\n",
      "✅ S3A filesystem is working!\n",
      "FileSystem class: org.apache.hadoop.fs.s3a.S3AFileSystem\n"
     ]
    }
   ],
   "source": [
    "try:\n",
    "    fs = spark._jvm.org.apache.hadoop.fs.FileSystem.get(\n",
    "        spark._jvm.java.net.URI(\"s3a://warehouse\"),\n",
    "        spark._jsc.hadoopConfiguration()\n",
    "    )\n",
    "    print(\"✅ S3A filesystem is working!\")\n",
    "    print(\"FileSystem class:\", fs.getClass().getName())\n",
    "except Exception as e:\n",
    "    print(\"❌ S3A filesystem is NOT configured correctly.\")\n",
    "    print(\"Error:\", e)"
   ]
  },
  {
   "cell_type": "code",
   "execution_count": 5,
   "metadata": {},
   "outputs": [
    {
     "name": "stderr",
     "output_type": "stream",
     "text": [
      "                                                                                "
     ]
    },
    {
     "name": "stdout",
     "output_type": "stream",
     "text": [
      "+---+------+\n",
      "| id|  name|\n",
      "+---+------+\n",
      "|  1|  Asad|\n",
      "|  2|Kamran|\n",
      "+---+------+\n",
      "\n"
     ]
    }
   ],
   "source": [
    "\n",
    "\n",
    "# Step 1: Create namespace (like a database)\n",
    "spark.sql(\"CREATE NAMESPACE IF NOT EXISTS nessie.db\")\n",
    "\n",
    "# Step 2: Create Iceberg table in Nessie catalog\n",
    "spark.sql(\"CREATE TABLE nessie.db.sample (id INT, name STRING)\")\n",
    "\n",
    "# Step 3: Insert some data\n",
    "spark.sql(\"INSERT INTO nessie.db.sample VALUES (1, 'Asad'), (2, 'Kamran')\")\n",
    "\n",
    "# Step 4: Query the table\n",
    "spark.sql(\"SELECT * FROM nessie.db.sample\").show()\n"
   ]
  },
  {
   "cell_type": "code",
   "execution_count": 6,
   "metadata": {},
   "outputs": [
    {
     "name": "stdout",
     "output_type": "stream",
     "text": [
      "+---+------+\n",
      "| id|  name|\n",
      "+---+------+\n",
      "|  1|  Asad|\n",
      "|  2|Kamran|\n",
      "|  3|  Oman|\n",
      "+---+------+\n",
      "\n",
      "+---+------+\n",
      "| id|  name|\n",
      "+---+------+\n",
      "|  1|  Asad|\n",
      "|  2|Kamran|\n",
      "+---+------+\n",
      "\n"
     ]
    }
   ],
   "source": [
    "# Insert more data\n",
    "spark.sql(\"INSERT INTO nessie.db.sample VALUES (3, 'Oman')\")\n",
    "\n",
    "# View updated data\n",
    "spark.sql(\"SELECT * FROM nessie.db.sample\").show()\n",
    "\n",
    "# Now time travel back\n",
    "snapshot_id = spark.sql(\"SELECT snapshot_id FROM nessie.db.sample.snapshots\").collect()[0][0]\n",
    "spark.sql(f\"SELECT * FROM nessie.db.sample VERSION AS OF {snapshot_id}\").show()\n"
   ]
  },
  {
   "cell_type": "code",
   "execution_count": 8,
   "metadata": {},
   "outputs": [
    {
     "name": "stdout",
     "output_type": "stream",
     "text": [
      "+--------------------+-------------------+-------------------+---------+--------------------+--------------------+\n",
      "|        committed_at|        snapshot_id|          parent_id|operation|       manifest_list|             summary|\n",
      "+--------------------+-------------------+-------------------+---------+--------------------+--------------------+\n",
      "|2025-06-16 20:10:...|5180409574472685445|               null|   append|s3a://warehouse/d...|{spark.app.id -> ...|\n",
      "|2025-06-16 20:11:...|7795097965680246088|5180409574472685445|   append|s3a://warehouse/d...|{spark.app.id -> ...|\n",
      "+--------------------+-------------------+-------------------+---------+--------------------+--------------------+\n",
      "\n",
      "+----------------------------+--------------------------------------------------------------------------------------------------------------------------------------------------------------------------------------------------------------------------------------------------------------------------+-------+\n",
      "|col_name                    |data_type                                                                                                                                                                                                                                                                 |comment|\n",
      "+----------------------------+--------------------------------------------------------------------------------------------------------------------------------------------------------------------------------------------------------------------------------------------------------------------------+-------+\n",
      "|id                          |int                                                                                                                                                                                                                                                                       |       |\n",
      "|name                        |string                                                                                                                                                                                                                                                                    |       |\n",
      "|                            |                                                                                                                                                                                                                                                                          |       |\n",
      "|# Partitioning              |                                                                                                                                                                                                                                                                          |       |\n",
      "|Not partitioned             |                                                                                                                                                                                                                                                                          |       |\n",
      "|                            |                                                                                                                                                                                                                                                                          |       |\n",
      "|# Metadata Columns          |                                                                                                                                                                                                                                                                          |       |\n",
      "|_spec_id                    |int                                                                                                                                                                                                                                                                       |       |\n",
      "|_partition                  |struct<>                                                                                                                                                                                                                                                                  |       |\n",
      "|_file                       |string                                                                                                                                                                                                                                                                    |       |\n",
      "|_pos                        |bigint                                                                                                                                                                                                                                                                    |       |\n",
      "|_deleted                    |boolean                                                                                                                                                                                                                                                                   |       |\n",
      "|                            |                                                                                                                                                                                                                                                                          |       |\n",
      "|# Detailed Table Information|                                                                                                                                                                                                                                                                          |       |\n",
      "|Name                        |nessie.db.sample                                                                                                                                                                                                                                                          |       |\n",
      "|Location                    |s3a://warehouse/db/sample_fa64457f-383d-430b-a87b-82dbad8fec15                                                                                                                                                                                                            |       |\n",
      "|Provider                    |iceberg                                                                                                                                                                                                                                                                   |       |\n",
      "|Owner                       |root                                                                                                                                                                                                                                                                      |       |\n",
      "|Table Properties            |[current-snapshot-id=7795097965680246088,format=iceberg/parquet,format-version=2,gc.enabled=false,nessie.commit.id=bbf0e6a5c2963acd80de501ae98531913a29b746cd858d99b9f53a8a60c48fb9,write.metadata.delete-after-commit.enabled=false,write.parquet.compression-codec=zstd]|       |\n",
      "+----------------------------+--------------------------------------------------------------------------------------------------------------------------------------------------------------------------------------------------------------------------------------------------------------------------+-------+\n",
      "\n"
     ]
    }
   ],
   "source": [
    "spark.sql(\"SELECT * FROM nessie.db.sample.snapshots\").show()\n",
    "spark.sql(\"DESCRIBE TABLE EXTENDED nessie.db.sample\").show(truncate=False)\n"
   ]
  },
  {
   "cell_type": "code",
   "execution_count": 9,
   "metadata": {},
   "outputs": [
    {
     "name": "stdout",
     "output_type": "stream",
     "text": [
      "+-------+--------------------------------------------------------------------------------------------------------------------+------+-----------------+-------------------+----------------------+-------------------------+------------------------+------------------------+---------------------------+--------------------------+-------------------+\n",
      "|content|path                                                                                                                |length|partition_spec_id|added_snapshot_id  |added_data_files_count|existing_data_files_count|deleted_data_files_count|added_delete_files_count|existing_delete_files_count|deleted_delete_files_count|partition_summaries|\n",
      "+-------+--------------------------------------------------------------------------------------------------------------------+------+-----------------+-------------------+----------------------+-------------------------+------------------------+------------------------+---------------------------+--------------------------+-------------------+\n",
      "|0      |s3a://warehouse/db/sample_fa64457f-383d-430b-a87b-82dbad8fec15/metadata/b2459079-515b-496d-8ace-ddc8dc8739fd-m0.avro|6695  |0                |7795097965680246088|1                     |0                        |0                       |0                       |0                          |0                         |[]                 |\n",
      "|0      |s3a://warehouse/db/sample_fa64457f-383d-430b-a87b-82dbad8fec15/metadata/b83df135-c4f4-49f0-9ca3-ef46c5581ccf-m0.avro|6720  |0                |5180409574472685445|2                     |0                        |0                       |0                       |0                          |0                         |[]                 |\n",
      "+-------+--------------------------------------------------------------------------------------------------------------------+------+-----------------+-------------------+----------------------+-------------------------+------------------------+------------------------+---------------------------+--------------------------+-------------------+\n",
      "\n"
     ]
    }
   ],
   "source": [
    "spark.sql(\"SELECT * FROM nessie.db.sample.manifests\").show(truncate=False)\n"
   ]
  },
  {
   "cell_type": "code",
   "execution_count": 10,
   "metadata": {},
   "outputs": [
    {
     "name": "stdout",
     "output_type": "stream",
     "text": [
      "+-------+------------------------------------------------------------------------------------------------------------------------------+-----------+-------+------------+------------------+------------------+----------------+-----------------+----------------+------------------------+------------------------+------------+-------------+------------+-------------+----------------------------------------------------------+\n",
      "|content|file_path                                                                                                                     |file_format|spec_id|record_count|file_size_in_bytes|column_sizes      |value_counts    |null_value_counts|nan_value_counts|lower_bounds            |upper_bounds            |key_metadata|split_offsets|equality_ids|sort_order_id|readable_metrics                                          |\n",
      "+-------+------------------------------------------------------------------------------------------------------------------------------+-----------+-------+------------+------------------+------------------+----------------+-----------------+----------------+------------------------+------------------------+------------+-------------+------------+-------------+----------------------------------------------------------+\n",
      "|0      |s3a://warehouse/db/sample_fa64457f-383d-430b-a87b-82dbad8fec15/data/00000-3-fef3e9df-2453-492c-93be-6179394e676a-00001.parquet|PARQUET    |0      |1           |617               |{1 -> 35, 2 -> 40}|{1 -> 1, 2 -> 1}|{1 -> 0, 2 -> 0} |{}              |{1 -> \u0003\u0000\u0000\u0000, 2 -> Oman}  |{1 -> \u0003\u0000\u0000\u0000, 2 -> Oman}  |null        |[4]          |null        |0            |{{35, 1, 0, null, 3, 3}, {40, 1, 0, null, Oman, Oman}}    |\n",
      "|0      |s3a://warehouse/db/sample_fa64457f-383d-430b-a87b-82dbad8fec15/data/00000-0-1aaa46aa-9abc-416b-ad00-dc7fba3ec2aa-00001.parquet|PARQUET    |0      |1           |618               |{1 -> 36, 2 -> 40}|{1 -> 1, 2 -> 1}|{1 -> 0, 2 -> 0} |{}              |{1 -> \u0001\u0000\u0000\u0000, 2 -> Asad}  |{1 -> \u0001\u0000\u0000\u0000, 2 -> Asad}  |null        |[4]          |null        |0            |{{36, 1, 0, null, 1, 1}, {40, 1, 0, null, Asad, Asad}}    |\n",
      "|0      |s3a://warehouse/db/sample_fa64457f-383d-430b-a87b-82dbad8fec15/data/00001-1-1aaa46aa-9abc-416b-ad00-dc7fba3ec2aa-00001.parquet|PARQUET    |0      |1           |632               |{1 -> 36, 2 -> 42}|{1 -> 1, 2 -> 1}|{1 -> 0, 2 -> 0} |{}              |{1 -> \u0002\u0000\u0000\u0000, 2 -> Kamran}|{1 -> \u0002\u0000\u0000\u0000, 2 -> Kamran}|null        |[4]          |null        |0            |{{36, 1, 0, null, 2, 2}, {42, 1, 0, null, Kamran, Kamran}}|\n",
      "+-------+------------------------------------------------------------------------------------------------------------------------------+-----------+-------+------------+------------------+------------------+----------------+-----------------+----------------+------------------------+------------------------+------------+-------------+------------+-------------+----------------------------------------------------------+\n",
      "\n"
     ]
    }
   ],
   "source": [
    "spark.sql(\"SELECT * FROM nessie.db.sample.files\").show(truncate=False)\n"
   ]
  },
  {
   "cell_type": "code",
   "execution_count": 12,
   "metadata": {
    "scrolled": true
   },
   "outputs": [
    {
     "name": "stdout",
     "output_type": "stream",
     "text": [
      "+----------------------------+--------------------------------------------------------------------------------------------------------------------------------------------------------------------------------------------------------------------------------------------------------------------------+-------+\n",
      "|col_name                    |data_type                                                                                                                                                                                                                                                                 |comment|\n",
      "+----------------------------+--------------------------------------------------------------------------------------------------------------------------------------------------------------------------------------------------------------------------------------------------------------------------+-------+\n",
      "|id                          |int                                                                                                                                                                                                                                                                       |       |\n",
      "|name                        |string                                                                                                                                                                                                                                                                    |       |\n",
      "|                            |                                                                                                                                                                                                                                                                          |       |\n",
      "|# Partitioning              |                                                                                                                                                                                                                                                                          |       |\n",
      "|Not partitioned             |                                                                                                                                                                                                                                                                          |       |\n",
      "|                            |                                                                                                                                                                                                                                                                          |       |\n",
      "|# Metadata Columns          |                                                                                                                                                                                                                                                                          |       |\n",
      "|_spec_id                    |int                                                                                                                                                                                                                                                                       |       |\n",
      "|_partition                  |struct<>                                                                                                                                                                                                                                                                  |       |\n",
      "|_file                       |string                                                                                                                                                                                                                                                                    |       |\n",
      "|_pos                        |bigint                                                                                                                                                                                                                                                                    |       |\n",
      "|_deleted                    |boolean                                                                                                                                                                                                                                                                   |       |\n",
      "|                            |                                                                                                                                                                                                                                                                          |       |\n",
      "|# Detailed Table Information|                                                                                                                                                                                                                                                                          |       |\n",
      "|Name                        |nessie.db.sample                                                                                                                                                                                                                                                          |       |\n",
      "|Location                    |s3a://warehouse/db/sample_fa64457f-383d-430b-a87b-82dbad8fec15                                                                                                                                                                                                            |       |\n",
      "|Provider                    |iceberg                                                                                                                                                                                                                                                                   |       |\n",
      "|Owner                       |root                                                                                                                                                                                                                                                                      |       |\n",
      "|Table Properties            |[current-snapshot-id=7795097965680246088,format=iceberg/parquet,format-version=2,gc.enabled=false,nessie.commit.id=bbf0e6a5c2963acd80de501ae98531913a29b746cd858d99b9f53a8a60c48fb9,write.metadata.delete-after-commit.enabled=false,write.parquet.compression-codec=zstd]|       |\n",
      "+----------------------------+--------------------------------------------------------------------------------------------------------------------------------------------------------------------------------------------------------------------------------------------------------------------------+-------+\n",
      "\n"
     ]
    }
   ],
   "source": [
    "spark.sql(\"DESCRIBE TABLE EXTENDED nessie.db.sample\").show(truncate=False)\n"
   ]
  },
  {
   "cell_type": "code",
   "execution_count": null,
   "metadata": {},
   "outputs": [],
   "source": []
  }
 ],
 "metadata": {
  "kernelspec": {
   "display_name": "Python 3 (ipykernel)",
   "language": "python",
   "name": "python3"
  },
  "language_info": {
   "codemirror_mode": {
    "name": "ipython",
    "version": 3
   },
   "file_extension": ".py",
   "mimetype": "text/x-python",
   "name": "python",
   "nbconvert_exporter": "python",
   "pygments_lexer": "ipython3",
   "version": "3.8.13"
  }
 },
 "nbformat": 4,
 "nbformat_minor": 4
}
