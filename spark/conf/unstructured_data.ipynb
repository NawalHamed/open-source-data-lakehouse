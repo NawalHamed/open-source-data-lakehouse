{
 "cells": [
  {
   "cell_type": "code",
   "execution_count": 2,
   "id": "77a4eff5-d44d-4f4a-b39a-6fbd9790d54f",
   "metadata": {},
   "outputs": [
    {
     "name": "stdout",
     "output_type": "stream",
     "text": [
      "root\n",
      " |-- image: struct (nullable = true)\n",
      " |    |-- origin: string (nullable = true)\n",
      " |    |-- height: integer (nullable = true)\n",
      " |    |-- width: integer (nullable = true)\n",
      " |    |-- nChannels: integer (nullable = true)\n",
      " |    |-- mode: integer (nullable = true)\n",
      " |    |-- data: binary (nullable = true)\n",
      "\n"
     ]
    },
    {
     "name": "stderr",
     "output_type": "stream",
     "text": [
      "                                                                                "
     ]
    },
    {
     "name": "stdout",
     "output_type": "stream",
     "text": [
      "+---------------------------------------------------------+------+-----+---------+----+\n",
      "|origin                                                   |height|width|nChannels|mode|\n",
      "+---------------------------------------------------------+------+-----+---------+----+\n",
      "|s3a://unstructured-data/airport_table_view_first5cols.png|348   |1900 |4        |24  |\n",
      "+---------------------------------------------------------+------+-----+---------+----+\n",
      "\n"
     ]
    },
    {
     "name": "stderr",
     "output_type": "stream",
     "text": [
      "                                                                                "
     ]
    },
    {
     "data": {
      "text/html": [
       "<div>\n",
       "<style scoped>\n",
       "    .dataframe tbody tr th:only-of-type {\n",
       "        vertical-align: middle;\n",
       "    }\n",
       "\n",
       "    .dataframe tbody tr th {\n",
       "        vertical-align: top;\n",
       "    }\n",
       "\n",
       "    .dataframe thead th {\n",
       "        text-align: right;\n",
       "    }\n",
       "</style>\n",
       "<table border=\"1\" class=\"dataframe\">\n",
       "  <thead>\n",
       "    <tr style=\"text-align: right;\">\n",
       "      <th></th>\n",
       "      <th>image</th>\n",
       "    </tr>\n",
       "  </thead>\n",
       "  <tbody>\n",
       "    <tr>\n",
       "      <th>0</th>\n",
       "      <td>(s3a://unstructured-data/airport_table_view_fi...</td>\n",
       "    </tr>\n",
       "  </tbody>\n",
       "</table>\n",
       "</div>"
      ],
      "text/plain": [
       "                                               image\n",
       "0  (s3a://unstructured-data/airport_table_view_fi..."
      ]
     },
     "execution_count": 2,
     "metadata": {},
     "output_type": "execute_result"
    }
   ],
   "source": [
    "from pyspark.sql import SparkSession\n",
    "\n",
    "# Step 1: Create SparkSession with Iceberg + Nessie + MinIO\n",
    "spark = SparkSession.builder \\\n",
    "    .appName(\"Image Metadata to Iceberg via Nessie\") \\\n",
    "    .config(\"spark.sql.catalog.nessie\", \"org.apache.iceberg.spark.SparkCatalog\") \\\n",
    "    .config(\"spark.sql.catalog.nessie.catalog-impl\", \"org.apache.iceberg.nessie.NessieCatalog\") \\\n",
    "    .config(\"spark.sql.catalog.nessie.uri\", \"http://nessie:19120/api/v1\") \\\n",
    "    .config(\"spark.sql.catalog.nessie.ref\", \"main\") \\\n",
    "    .config(\"spark.sql.catalog.nessie.warehouse\", \"s3a://warehouse/\") \\\n",
    "    .config(\"spark.hadoop.fs.s3a.access.key\", \"minioadmin\") \\\n",
    "    .config(\"spark.hadoop.fs.s3a.secret.key\", \"minioadmin\") \\\n",
    "    .config(\"spark.hadoop.fs.s3a.endpoint\", \"http://minio:9000\") \\\n",
    "    .config(\"spark.hadoop.fs.s3a.path.style.access\", \"true\") \\\n",
    "    .config(\"spark.hadoop.fs.s3a.connection.ssl.enabled\", \"false\") \\\n",
    "    .getOrCreate()\n",
    "\n",
    "# Step 2: Read image metadata from MinIO bucket\n",
    "image_df = spark.read.format(\"image\").load(\"s3a://unstructured-data/airport_table_view_first5cols.png\")\n",
    "\n",
    "# Optional: Show schema and metadata\n",
    "image_df.printSchema()\n",
    "image_df.select(\n",
    "    \"image.origin\",\n",
    "    \"image.height\",\n",
    "    \"image.width\",\n",
    "    \"image.nChannels\",\n",
    "    \"image.mode\"\n",
    ").show(truncate=False)\n",
    "\n",
    "# Step 3: Create namespace/schema in Iceberg via Nessie if it doesn't exist\n",
    "spark.sql(\"CREATE NAMESPACE IF NOT EXISTS nessie.bronze_layer\")\n",
    "\n",
    "# Step 4: Write image metadata as an Iceberg table using Nessie catalog\n",
    "image_df.writeTo(\"nessie.bronze_layer.unstructured_data\").createOrReplace()\n",
    "\n",
    "# Step 5: Read back from the Iceberg table to verify\n",
    "spark.read.table(\"nessie.bronze_layer.unstructured_data\").limit(100).toPandas()\n"
   ]
  },
  {
   "cell_type": "code",
   "execution_count": 2,
   "id": "fe31d41b-9e9e-47b4-a9c4-56c208e835d6",
   "metadata": {},
   "outputs": [
    {
     "name": "stdout",
     "output_type": "stream",
     "text": [
      "+-----------------------+-------------------+---------+---------+-----------------------------------------------------------------------------------------------------------------------------------------------------------------+--------------------------------------------------------------------------------------------------------------------------------------------------------------------------------------------------------------------------------------------------------------------------------------------------+\n",
      "|committed_at           |snapshot_id        |parent_id|operation|manifest_list                                                                                                                                                    |summary                                                                                                                                                                                                                                                                                           |\n",
      "+-----------------------+-------------------+---------+---------+-----------------------------------------------------------------------------------------------------------------------------------------------------------------+--------------------------------------------------------------------------------------------------------------------------------------------------------------------------------------------------------------------------------------------------------------------------------------------------+\n",
      "|2025-06-18 10:22:57.06 |4829451603634949905|null     |append   |s3a://warehouse/bronze_layer/unstructured_data_d04ee208-9a8a-440a-a3ab-f4b9f07645e5/metadata/snap-4829451603634949905-1-ebb342e7-eef6-4ec1-bc0f-794733ae687c.avro|{spark.app.id -> local-1750242157431, added-data-files -> 1, added-records -> 1, added-files-size -> 27923, changed-partition-count -> 1, total-records -> 1, total-files-size -> 27923, total-data-files -> 1, total-delete-files -> 0, total-position-deletes -> 0, total-equality-deletes -> 0}|\n",
      "|2025-06-18 10:25:49.312|2734750984051717487|null     |append   |s3a://warehouse/bronze_layer/unstructured_data_d04ee208-9a8a-440a-a3ab-f4b9f07645e5/metadata/snap-2734750984051717487-1-3621ddec-89c4-4637-9362-0caafbbd8709.avro|{spark.app.id -> local-1750242328499, added-data-files -> 1, added-records -> 1, added-files-size -> 27923, changed-partition-count -> 1, total-records -> 1, total-files-size -> 27923, total-data-files -> 1, total-delete-files -> 0, total-position-deletes -> 0, total-equality-deletes -> 0}|\n",
      "|2025-06-18 10:28:28.712|5092265359251046026|null     |append   |s3a://warehouse/bronze_layer/unstructured_data_d04ee208-9a8a-440a-a3ab-f4b9f07645e5/metadata/snap-5092265359251046026-1-a5d78cb3-7689-47c5-b8a1-f252481d620d.avro|{spark.app.id -> local-1750242483876, added-data-files -> 1, added-records -> 1, added-files-size -> 27923, changed-partition-count -> 1, total-records -> 1, total-files-size -> 27923, total-data-files -> 1, total-delete-files -> 0, total-position-deletes -> 0, total-equality-deletes -> 0}|\n",
      "+-----------------------+-------------------+---------+---------+-----------------------------------------------------------------------------------------------------------------------------------------------------------------+--------------------------------------------------------------------------------------------------------------------------------------------------------------------------------------------------------------------------------------------------------------------------------------------------+\n",
      "\n"
     ]
    }
   ],
   "source": [
    "spark.sql(\"SELECT * FROM nessie.bronze_layer.unstructured_data.snapshots\").show(truncate=False)\n"
   ]
  },
  {
   "cell_type": "code",
   "execution_count": 3,
   "id": "a20cf030-f9af-4d4e-a51b-b97e5225089b",
   "metadata": {},
   "outputs": [
    {
     "name": "stdout",
     "output_type": "stream",
     "text": [
      "+--------------------+------+\n",
      "|              origin|height|\n",
      "+--------------------+------+\n",
      "|s3a://unstructure...|   348|\n",
      "+--------------------+------+\n",
      "\n"
     ]
    }
   ],
   "source": [
    "df = spark.read.option(\"snapshot-id\", \"5092265359251046026\").table(\"nessie.bronze_layer.unstructured_data\")\n",
    "df.select(\"image.origin\", \"image.height\").show()\n"
   ]
  },
  {
   "cell_type": "code",
   "execution_count": null,
   "id": "011628a8-251f-4586-b23a-7002503b42a4",
   "metadata": {},
   "outputs": [],
   "source": []
  }
 ],
 "metadata": {
  "kernelspec": {
   "display_name": "Python 3 (ipykernel)",
   "language": "python",
   "name": "python3"
  },
  "language_info": {
   "codemirror_mode": {
    "name": "ipython",
    "version": 3
   },
   "file_extension": ".py",
   "mimetype": "text/x-python",
   "name": "python",
   "nbconvert_exporter": "python",
   "pygments_lexer": "ipython3",
   "version": "3.8.13"
  }
 },
 "nbformat": 4,
 "nbformat_minor": 5
}
