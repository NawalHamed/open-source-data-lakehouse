{
 "cells": [
  {
   "cell_type": "code",
   "execution_count": 2,
   "id": "07c0b185-4a15-4d16-b375-0862e358b27b",
   "metadata": {},
   "outputs": [
    {
     "name": "stderr",
     "output_type": "stream",
     "text": [
      "                                                                                "
     ]
    },
    {
     "name": "stdout",
     "output_type": "stream",
     "text": [
      "root\n",
      " |-- id: integer (nullable = true)\n",
      " |-- capital: string (nullable = true)\n",
      " |-- currency_code: string (nullable = true)\n",
      " |-- fips_code: string (nullable = true)\n",
      " |-- country_iso2: string (nullable = true)\n",
      " |-- country_iso3: string (nullable = true)\n",
      " |-- continent: string (nullable = true)\n",
      " |-- country_id: integer (nullable = true)\n",
      " |-- country_name: string (nullable = true)\n",
      " |-- currency_name: string (nullable = true)\n",
      " |-- country_iso_numeric: integer (nullable = true)\n",
      " |-- phone_prefix: string (nullable = true)\n",
      " |-- population: integer (nullable = true)\n",
      "\n",
      "+-----+--------------+-------------+---------+------------+------------+---------+----------+------------+-------------+-------------------+------------+----------+\n",
      "|   id|       capital|currency_code|fips_code|country_iso2|country_iso3|continent|country_id|country_name|currency_name|country_iso_numeric|phone_prefix|population|\n",
      "+-----+--------------+-------------+---------+------------+------------+---------+----------+------------+-------------+-------------------+------------+----------+\n",
      "|96617|Port-au-Prince|          HTG|       HA|          HT|         HTI|       NA|       101|       Haiti|       Gourde|                332|         509|   9648924|\n",
      "|96618|      Budapest|          HUF|       HU|          HU|         HUN|       EU|       102|     Hungary|       Forint|                348|          36|   9982000|\n",
      "|96619|       Jakarta|          IDR|       ID|          ID|         IDN|       AS|       103|   Indonesia|       Rupiah|                360|          62| 242968342|\n",
      "|96620|        Dublin|          EUR|       EI|          IE|         IRL|       EU|       104|     Ireland|         Euro|                372|         353|   4622917|\n",
      "|96621|     Jerusalem|          ILS|       IS|          IL|         ISR|       AS|       105|      Israel|       Shekel|                376|         972|   7353985|\n",
      "+-----+--------------+-------------+---------+------------+------------+---------+----------+------------+-------------+-------------------+------------+----------+\n",
      "only showing top 5 rows\n",
      "\n"
     ]
    },
    {
     "name": "stderr",
     "output_type": "stream",
     "text": [
      "[Stage 4:>                                                          (0 + 1) / 1]"
     ]
    },
    {
     "name": "stdout",
     "output_type": "stream",
     "text": [
      "+-----+--------------+-------------+---------+------------+------------+---------+----------+------------+-------------+-------------------+------------+----------+\n",
      "|   id|       capital|currency_code|fips_code|country_iso2|country_iso3|continent|country_id|country_name|currency_name|country_iso_numeric|phone_prefix|population|\n",
      "+-----+--------------+-------------+---------+------------+------------+---------+----------+------------+-------------+-------------------+------------+----------+\n",
      "|96617|Port-au-Prince|          HTG|       HA|          HT|         HTI|       NA|       101|       Haiti|       Gourde|                332|         509|   9648924|\n",
      "|96618|      Budapest|          HUF|       HU|          HU|         HUN|       EU|       102|     Hungary|       Forint|                348|          36|   9982000|\n",
      "|96619|       Jakarta|          IDR|       ID|          ID|         IDN|       AS|       103|   Indonesia|       Rupiah|                360|          62| 242968342|\n",
      "|96620|        Dublin|          EUR|       EI|          IE|         IRL|       EU|       104|     Ireland|         Euro|                372|         353|   4622917|\n",
      "|96621|     Jerusalem|          ILS|       IS|          IL|         ISR|       AS|       105|      Israel|       Shekel|                376|         972|   7353985|\n",
      "+-----+--------------+-------------+---------+------------+------------+---------+----------+------------+-------------+-------------------+------------+----------+\n",
      "only showing top 5 rows\n",
      "\n"
     ]
    },
    {
     "name": "stderr",
     "output_type": "stream",
     "text": [
      "                                                                                "
     ]
    }
   ],
   "source": [
    "from pyspark.sql import SparkSession\n",
    "\n",
    "# Step 1: Create SparkSession (with URI fix to /api/v2)\n",
    "spark = SparkSession.builder \\\n",
    "    .appName(\"Airline JSON to Iceberg Silver\") \\\n",
    "    .config(\"spark.sql.catalog.nessie\", \"org.apache.iceberg.spark.SparkCatalog\") \\\n",
    "    .config(\"spark.sql.catalog.nessie.catalog-impl\", \"org.apache.iceberg.nessie.NessieCatalog\") \\\n",
    "    .config(\"spark.sql.catalog.nessie.uri\", \"http://nessie:19120/api/v1\") \\\n",
    "    .config(\"spark.sql.catalog.nessie.ref\", \"main\") \\\n",
    "    .config(\"spark.sql.catalog.nessie.warehouse\", \"s3a://warehouse/\") \\\n",
    "    .config(\"spark.hadoop.fs.s3a.endpoint\", \"http://minio:9000\") \\\n",
    "    .config(\"spark.hadoop.fs.s3a.access.key\", \"minioadmin\") \\\n",
    "    .config(\"spark.hadoop.fs.s3a.secret.key\", \"minioadmin\") \\\n",
    "    .config(\"spark.hadoop.fs.s3a.path.style.access\", \"true\") \\\n",
    "    .config(\"spark.hadoop.fs.s3a.connection.ssl.enabled\", \"false\") \\\n",
    "    .getOrCreate()\n",
    "# Step 2: Load CSV from MinIO\n",
    "csv_df = spark.read \\\n",
    "    .option(\"header\", True) \\\n",
    "    .option(\"inferSchema\", True) \\\n",
    "    .csv(\"s3a://cities-countries/countries/csv/*.csv\")\n",
    "\n",
    "# Optional: inspect schema\n",
    "csv_df.printSchema()\n",
    "csv_df.show(5)\n",
    "\n",
    "# Step 3: Create namespace if needed\n",
    "spark.sql(\"CREATE NAMESPACE IF NOT EXISTS nessie.silver_layer\")\n",
    "\n",
    "# Step 4: Write to Iceberg table\n",
    "csv_df.writeTo(\"nessie.silver_layer.countries_table\").createOrReplace()\n",
    "\n",
    "# Step 5: Verify\n",
    "spark.read.table(\"nessie.silver_layer.countries_table\").show(5)\n"
   ]
  },
  {
   "cell_type": "code",
   "execution_count": null,
   "id": "7e67570e-957a-4de9-9ca9-1282b28c4a3d",
   "metadata": {},
   "outputs": [],
   "source": [
    "\n"
   ]
  },
  {
   "cell_type": "code",
   "execution_count": null,
   "id": "c372ef2f-7814-443f-8ef0-ea5b29a15103",
   "metadata": {},
   "outputs": [],
   "source": []
  },
  {
   "cell_type": "code",
   "execution_count": null,
   "id": "890fcbc1-773e-408c-835e-937dca23a5ee",
   "metadata": {},
   "outputs": [],
   "source": []
  }
 ],
 "metadata": {
  "kernelspec": {
   "display_name": "Python 3 (ipykernel)",
   "language": "python",
   "name": "python3"
  },
  "language_info": {
   "codemirror_mode": {
    "name": "ipython",
    "version": 3
   },
   "file_extension": ".py",
   "mimetype": "text/x-python",
   "name": "python",
   "nbconvert_exporter": "python",
   "pygments_lexer": "ipython3",
   "version": "3.8.13"
  }
 },
 "nbformat": 4,
 "nbformat_minor": 5
}
